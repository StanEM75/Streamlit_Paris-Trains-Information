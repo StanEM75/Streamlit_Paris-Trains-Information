{
 "cells": [
  {
   "cell_type": "markdown",
   "id": "3c2fef94-f439-4edf-8714-5e9439ad20d6",
   "metadata": {},
   "source": [
    "## Packages"
   ]
  },
  {
   "cell_type": "code",
   "execution_count": 1,
   "id": "d89fdb4a-df72-48e4-bde0-968c64340996",
   "metadata": {},
   "outputs": [],
   "source": [
    "import pandas as pd\n",
    "import requests\n",
    "pd.set_option(\"display.max_rows\", None)\n",
    "import numpy as np"
   ]
  },
  {
   "cell_type": "markdown",
   "id": "626c25fd-b66c-4382-8d26-80f467ba1820",
   "metadata": {},
   "source": [
    "## API Call"
   ]
  },
  {
   "cell_type": "code",
   "execution_count": 125,
   "id": "646cc2cb-8607-4af7-be8c-d32fec19f134",
   "metadata": {},
   "outputs": [],
   "source": [
    "# URL & endpoint\n",
    "base_url = \"https://prim.iledefrance-mobilites.fr/marketplace\"\n",
    "endpoint = \"/stop-monitoring\"\n",
    "\n",
    "# Request Parameters\n",
    "params = {\n",
    "    \"MonitoringRef\": \"STIF:StopPoint:Q:473921:\",  # ID de l'arrêt Châtelet les Halles\n",
    "    \"LineRef\": \"STIF:Line::C01742:\"  # ID de la ligne (par exemple RER A)\n",
    "}\n",
    "\n",
    "# HTTP, and API Token\n",
    "headers = {\n",
    "    \"apiKey\": \"OuQIREojGU65DRhczPsANBSt0DreSkvy\",  # Remplace avec ton jeton d'API\n",
    "    \"Content-Type\": \"application/json\"\n",
    "}\n",
    "\n",
    "# GET Request\n",
    "response = requests.get(base_url + endpoint, headers=headers, params=params)\n",
    "\n",
    "# Print the responses in JSON File\n",
    "if response.status_code == 200:\n",
    "    data = response.json()"
   ]
  },
  {
   "cell_type": "markdown",
   "id": "b1abd6cf-3c15-48f4-ba36-81ee2193d9a9",
   "metadata": {},
   "source": [
    "## Get Information from JSON"
   ]
  },
  {
   "cell_type": "code",
   "execution_count": 127,
   "id": "e9532d99-b680-4c6b-ae87-ceb8f43bf573",
   "metadata": {},
   "outputs": [],
   "source": [
    "monitored_stop_visits = data['Siri']['ServiceDelivery']['StopMonitoringDelivery'][0]['MonitoredStopVisit'] "
   ]
  },
  {
   "cell_type": "markdown",
   "id": "b7cb1dbb-b283-46bf-a018-ab887d209cb3",
   "metadata": {},
   "source": [
    "### Direction Names"
   ]
  },
  {
   "cell_type": "code",
   "execution_count": 128,
   "id": "4459e982-d3e8-4911-841b-4303ab2317e5",
   "metadata": {},
   "outputs": [],
   "source": [
    "direction_names = []\n",
    "\n",
    "for visit in monitored_stop_visits:\n",
    "    direction_names.append(visit['MonitoredVehicleJourney']['DirectionName'][0]['value'])"
   ]
  },
  {
   "cell_type": "markdown",
   "id": "be7a545c-da14-45c5-b46d-4b0b0eed5b55",
   "metadata": {},
   "source": [
    "### Arrival Times"
   ]
  },
  {
   "cell_type": "code",
   "execution_count": 129,
   "id": "ed01e7cb-a973-4294-96b5-d6891e3ab767",
   "metadata": {},
   "outputs": [],
   "source": [
    "expected_arrival_times = []\n",
    "\n",
    "for visit in monitored_stop_visits:\n",
    "    expected_arrival_time = visit['MonitoredVehicleJourney']['MonitoredCall']['ExpectedArrivalTime']\n",
    "    expected_arrival_times.append(expected_arrival_time)"
   ]
  },
  {
   "cell_type": "markdown",
   "id": "136f520b-6130-4ea9-9b05-7776ef2f2252",
   "metadata": {},
   "source": [
    "## Import Referentials"
   ]
  },
  {
   "cell_type": "markdown",
   "id": "63682d21-931a-4f92-933b-3664b9eed9fc",
   "metadata": {},
   "source": [
    "### Line"
   ]
  },
  {
   "cell_type": "code",
   "execution_count": 14,
   "id": "0da86479-2391-4401-a4d0-ac75df503162",
   "metadata": {},
   "outputs": [],
   "source": [
    "line = pd.read_csv('data/referentiel-des-lignes.csv', on_bad_lines='skip', sep = ';')"
   ]
  },
  {
   "cell_type": "code",
   "execution_count": 15,
   "id": "cd7a23cc-5b05-452c-a152-b7bf67cda44b",
   "metadata": {},
   "outputs": [],
   "source": [
    "line = line.query(\"TransportMode=='metro'\")"
   ]
  },
  {
   "cell_type": "code",
   "execution_count": 16,
   "id": "b2fd0b17-9335-4b47-9ca8-9470ce7913ed",
   "metadata": {},
   "outputs": [],
   "source": [
    "line_numbers = line['Name_Line'].to_list()"
   ]
  },
  {
   "cell_type": "code",
   "execution_count": 17,
   "id": "2a7fa911-8d8c-4e03-bea5-ce42e1d0c3c0",
   "metadata": {},
   "outputs": [],
   "source": [
    "line = line[['ID_Line','Name_Line']].drop_duplicates().reset_index(drop=True)"
   ]
  },
  {
   "cell_type": "markdown",
   "id": "62c2030a-3ae3-4ee9-b663-12a1d0cca974",
   "metadata": {},
   "source": [
    "#### Convert Line Numbers in Float"
   ]
  },
  {
   "cell_type": "code",
   "execution_count": 7,
   "id": "640a1db9-07ac-4452-8e49-c590d2306054",
   "metadata": {},
   "outputs": [],
   "source": [
    "def keep_and_convert_float(L):\n",
    "    new_list=[]\n",
    "    for index,element in enumerate(L):\n",
    "        try:\n",
    "            new_list.append(float(element))\n",
    "        except:\n",
    "            pass\n",
    "    return new_list"
   ]
  },
  {
   "cell_type": "markdown",
   "id": "6fa5405a-0696-4b8f-b84d-756c7aabc464",
   "metadata": {},
   "source": [
    "### Stops"
   ]
  },
  {
   "cell_type": "code",
   "execution_count": 8,
   "id": "9ddbd1df-e4c2-4407-91a8-2048a0e5d607",
   "metadata": {},
   "outputs": [],
   "source": [
    "stops = pd.read_csv('data/arrets.csv', on_bad_lines='skip', sep = ';')"
   ]
  },
  {
   "cell_type": "code",
   "execution_count": 9,
   "id": "1e6f3ef0-4304-492b-baa4-95498c9d0678",
   "metadata": {},
   "outputs": [],
   "source": [
    "stops = stops.query(\"ArRType=='metro'\")"
   ]
  },
  {
   "cell_type": "code",
   "execution_count": 10,
   "id": "13cb2879-009c-44bb-8dd4-c261ab98e9ca",
   "metadata": {},
   "outputs": [],
   "source": [
    "stops = stops[stops['ArRTown'].str.contains('Paris')]"
   ]
  },
  {
   "cell_type": "code",
   "execution_count": 11,
   "id": "0bbee7b2-ed56-4407-b423-cf83aa06c3bf",
   "metadata": {},
   "outputs": [],
   "source": [
    "stops = stops[['ArRId', 'ArRName']].drop_duplicates().reset_index(drop=True)"
   ]
  },
  {
   "cell_type": "markdown",
   "id": "b1cdcff9-3278-410e-9dcb-9c66759de15d",
   "metadata": {},
   "source": [
    "## Export"
   ]
  },
  {
   "cell_type": "code",
   "execution_count": 12,
   "id": "b43e6d0b-b502-4e8b-90ef-d60c32212d7e",
   "metadata": {},
   "outputs": [],
   "source": [
    "stops.to_csv('frontend/pages/Outputs/stops.csv',index=False)"
   ]
  },
  {
   "cell_type": "code",
   "execution_count": 18,
   "id": "afa932d4-2dd4-4654-8f5e-486328cce87b",
   "metadata": {},
   "outputs": [],
   "source": [
    "line.to_csv('frontend/pages/Outputs/lines.csv', index=False)"
   ]
  },
  {
   "cell_type": "code",
   "execution_count": null,
   "id": "ca680163",
   "metadata": {},
   "outputs": [],
   "source": []
  }
 ],
 "metadata": {
  "kernelspec": {
   "display_name": "Python 3 (ipykernel)",
   "language": "python",
   "name": "python3"
  },
  "language_info": {
   "codemirror_mode": {
    "name": "ipython",
    "version": 3
   },
   "file_extension": ".py",
   "mimetype": "text/x-python",
   "name": "python",
   "nbconvert_exporter": "python",
   "pygments_lexer": "ipython3",
   "version": "3.12.4"
  }
 },
 "nbformat": 4,
 "nbformat_minor": 5
}
